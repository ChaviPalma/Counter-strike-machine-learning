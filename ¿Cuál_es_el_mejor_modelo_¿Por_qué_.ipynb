{
  "nbformat": 4,
  "nbformat_minor": 0,
  "metadata": {
    "colab": {
      "provenance": []
    },
    "kernelspec": {
      "name": "python3",
      "display_name": "Python 3"
    },
    "language_info": {
      "name": "python"
    }
  },
  "cells": [
    {
      "cell_type": "markdown",
      "source": [
        "# ¿Cuál es el mejor modelo?¿Por qué?\n",
        "\n",
        "\n",
        "\n",
        "Integrantes:\n",
        "\n",
        "*   Gonzalo Gallardo\n",
        "*   Bárbara Palma Mena\n",
        "\n",
        "Docente: Giocrisrai Godoy\n",
        "\n",
        "Sección: MLY0100 - 002D"
      ],
      "metadata": {
        "id": "R_cuaKBeF7Yu"
      }
    },
    {
      "cell_type": "markdown",
      "source": [
        "## Ranking de modelos"
      ],
      "metadata": {
        "id": "Qn0ELRzxG7mM"
      }
    },
    {
      "cell_type": "markdown",
      "source": [
        "1. Support Vector Machine:\n",
        "\n",
        "Es el mejor modelo porque logra que tanto el Mean Absolute Error como el Root Mean Squared Error sean los más bajos, lo que indica una alta precisión en las predicciones. Su R² (Coeficiente de determinación) de 0.830 significa que el modelo explica aproximadamente el 83% de la variabilidad en los datos, evidenciando una capacidad robusta para ajustarse a la realidad de los MatchKills con baja dispersión. Además, el escalado previo de los datos potencia su rendimiento al capturar relaciones no lineales de manera más efectiva.\n",
        "\n"
      ],
      "metadata": {
        "id": "20aqwX-oHEyO"
      }
    },
    {
      "cell_type": "markdown",
      "source": [
        "2. Random Forest:\n",
        "\n",
        "Es un modelo muy bueno por que logra que el Mean Absolute Error y el Root Mean Squared Error sean bajos, lo cual indica una alta precisión.Su R² (Coeficiente de determinación) 0.813 indica que el 81.3% explica la variabilidad en los datos. Además que sugiere que las predicciones se alinean bastante bien a la realidad de los MatchKills, aunque sugiere una leve tendencia al sobreajuste.\n"
      ],
      "metadata": {
        "id": "MXjkyXxkLdE5"
      }
    },
    {
      "cell_type": "markdown",
      "source": [
        "3. Decision Tree:\n",
        "\n",
        "Es un modelo aceptable, aunque no tan preciso como los anteriores. Sus valores de Mean Absolute Error y Root Mean Squared Error son moderadamente bajos, lo que indica que su nivel de precisión es aceptable, aunque menor que los dos modelos anteriores.Su R² (Coeficiente de determinación) de 0.763 sugiere que este explica el 76.3% de la variabilidad en los datos. Esto mostraría que el modelo logra capturar la mayoría de las relaciones entre las variables de entrada y MatchKills, pero a su vez es más propenso a el sobreajuste y no generaliza tan bien como los otros modelos evaluados."
      ],
      "metadata": {
        "id": "sB-PbJRZRHs8"
      }
    },
    {
      "cell_type": "markdown",
      "source": [
        "4. Regresión lineal múltiple:\n",
        "\n",
        "Es un modelo aceptable pero con menor precisión que los modelos no lineales. Sus valores de Mean Absolute Error y Root Mean Squared Error son algo más altos, lo que indica que sus predicciones no se ajustan tan finamente a los valores reales. Su R² (Coeficiente de determinación) de 0.710 sugiere que explica aproximadamente el 71% de la variabilidad en los datos. Esto muestra que el modelo puede representar las relaciones lineales entre las variables de entrada y los MatchKills, pero tiene limitaciones para capturar relaciones más complejas que podrían mejorar la precisión general."
      ],
      "metadata": {
        "id": "Fs4OmXhZSEgZ"
      }
    },
    {
      "cell_type": "markdown",
      "source": [
        "5. Regresión Lineal Simple:\n",
        "\n",
        "Es el modelo con el rendimiento más bajo entre los evaluados. Sus valores de Mean Absolute Error y Root Mean Squared Error son los más altos, lo que indica que sus predicciones presentan una mayor desviación respecto a los valores reales. Su R² (Coeficiente de determinación) de 0.550 sugiere que solo explica aproximadamente el 55% de la variabilidad en los datos. Esto muestra que el modelo es demasiado limitado al considerar solo una variable predictora, lo que le impide capturar adecuadamente las relaciones más complejas entre las variables de entrada y los MatchKills."
      ],
      "metadata": {
        "id": "HQzHzmyPVq37"
      }
    },
    {
      "cell_type": "markdown",
      "source": [
        "## ¿Por qué Support vector machine es el mejor modelo?"
      ],
      "metadata": {
        "id": "l1z4Y7buWDb1"
      }
    },
    {
      "cell_type": "markdown",
      "source": [
        "*   Alta precisión: ya que obtuvo valores más bajos de Mean Absolute Error (MAE) y Root Mean Squared Error (RMSE), lo que significa que sus predicciones se alinearon de forma muy cercana a los valores reales. Esto indica que el modelo tiene una capacidad excepcional para predecir con precisión la cantidad de MatchKills.\n",
        "*  Alto R² (Coeficiente de Determinación): Con un R² de 0.830, el SVM logra explicar el 83% de la variabilidad en los datos, lo que demuestra su capacidad para capturar de forma robusta la relación entre las variables predictoras y la variable objetivo.\n",
        "*   Captura de relaciones no lineales: El uso de kernels (como RBF o polinómico) en SVM permite modelar relaciones no lineales y complejas, lo que le da una gran ventaja sobre modelos más simples como la regresión lineal.\n",
        "*   Eficacia con escalado de datos: Gracias al escalado previo de los datos, el SVM puede manejar mejor las diferencias de magnitud entre variables predictoras y optimizar su rendimiento.\n",
        "*  Regularización eficiente: Regularización eficiente:\n",
        "\n",
        "\n",
        "\n",
        "\n"
      ],
      "metadata": {
        "id": "PVo9a9W9WKt6"
      }
    }
  ]
}